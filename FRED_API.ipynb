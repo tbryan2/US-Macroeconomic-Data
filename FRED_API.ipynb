{
 "cells": [
  {
   "cell_type": "code",
   "execution_count": 2,
   "id": "8d3fc989-7ef8-43f8-ab2c-1fb8f60bfa0c",
   "metadata": {},
   "outputs": [],
   "source": [
    "# Dependencies\n",
    "import requests\n",
    "import pandas as pd\n",
    "import pymongo\n",
    "from config import api_key\n",
    "import time\n"
   ]
  },
  {
   "cell_type": "code",
   "execution_count": 3,
   "id": "bfca92e3-f1ca-4782-bee9-4341e22b964d",
   "metadata": {},
   "outputs": [],
   "source": [
    "# Define year range, initialize date list, append range of years to date list\n",
    "year_range = range(1960, 2023)\n",
    "\n",
    "dates = []\n",
    "\n",
    "for year in year_range:\n",
    "    dates.append(f\"{year}-01-01\")"
   ]
  },
  {
   "cell_type": "code",
   "execution_count": 39,
   "id": "31ee3637-4152-4207-b1d1-64d1718a3529",
   "metadata": {},
   "outputs": [],
   "source": [
    "# Build the MongoDB database and collections\n",
    "conn = 'mongodb://localhost:27017'\n",
    "client = pymongo.MongoClient(conn)\n",
    "\n",
    "# Declare the database\n",
    "db = client.macro_db\n",
    "\n",
    "# Declare the unemployment rate collection\n",
    "unemployment = db.unemployment\n",
    "\n",
    "# Declare the per capita income collection\n",
    "percapincome = db.percapincome\n",
    "\n",
    "# Declare the minimum wage collection\n",
    "minimum_wage = db.minimum_wage"
   ]
  },
  {
   "cell_type": "code",
   "execution_count": 41,
   "id": "95e824e7-2a0d-4a81-98a4-2ac7930e24b0",
   "metadata": {},
   "outputs": [],
   "source": [
    "# Pull unemployment rate from the FRED API\n",
    "for date in dates:\n",
    "    try:\n",
    "        base_url = f\"https://api.stlouisfed.org/geofred/series/data?series_id=ALUR&api_key={api_key}&file_type=json&date={date}\"\n",
    "        unemployment_response = requests.get(base_url)\n",
    "        unemployment_json = unemployment_response.json()\n",
    "        time.sleep(0.5)\n",
    "        unemployment.insert_one(unemployment_json[\"meta\"][\"data\"])\n",
    "    except:\n",
    "        pass"
   ]
  },
  {
   "cell_type": "code",
   "execution_count": 40,
   "id": "bb3f827a-487f-428d-a744-1a4acb80b50a",
   "metadata": {},
   "outputs": [],
   "source": [
    "# Pull per capita income from the FRED API\n",
    "for date in dates:\n",
    "    try:\n",
    "        base_url = f\"https://api.stlouisfed.org/geofred/series/data?series_id=WIPCPI&api_key={api_key}&file_type=json&date={date}\"\n",
    "        income_response = requests.get(base_url)\n",
    "        income_json = income_response.json()\n",
    "        time.sleep(0.5)\n",
    "        percapincome.insert_one(income_json[\"meta\"][\"data\"])\n",
    "    except:\n",
    "        pass"
   ]
  },
  {
   "cell_type": "code",
   "execution_count": 45,
   "id": "7198f076-0647-4086-b600-9b01aca76d8f",
   "metadata": {},
   "outputs": [],
   "source": [
    "# Pull minimum wage  from the FRED API\n",
    "for date in dates:\n",
    "    try:\n",
    "        base_url = f\"https://api.stlouisfed.org/geofred/series/data?series_id=STTMINWGDC&api_key={api_key}&file_type=json&date={date}\"\n",
    "        minimum_wage_response = requests.get(base_url)\n",
    "        minimum_wage_json = minimum_wage_response.json()\n",
    "        time.sleep(0.5)\n",
    "        minimum_wage.insert_one(minimum_wage_json[\"meta\"][\"data\"])\n",
    "    except:\n",
    "        pass"
   ]
  },
  {
   "cell_type": "code",
   "execution_count": null,
   "id": "4643c8fc-10f9-4786-b10c-6e6097af757e",
   "metadata": {},
   "outputs": [],
   "source": [
    "\"\"\"\n",
    "\"This product uses the FRED® API but is not endorsed or certified by \n",
    "the Federal Reserve Bank of St. Louis.\"\n",
    "\"\"\""
   ]
  }
 ],
 "metadata": {
  "kernelspec": {
   "display_name": "Python 3 (ipykernel)",
   "language": "python",
   "name": "python3"
  },
  "language_info": {
   "codemirror_mode": {
    "name": "ipython",
    "version": 3
   },
   "file_extension": ".py",
   "mimetype": "text/x-python",
   "name": "python",
   "nbconvert_exporter": "python",
   "pygments_lexer": "ipython3",
   "version": "3.9.7"
  }
 },
 "nbformat": 4,
 "nbformat_minor": 5
}
